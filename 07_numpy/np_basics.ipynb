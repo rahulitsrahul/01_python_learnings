{
 "cells": [
  {
   "cell_type": "code",
   "execution_count": 1,
   "metadata": {},
   "outputs": [],
   "source": [
    "import numpy as np"
   ]
  },
  {
   "cell_type": "markdown",
   "metadata": {},
   "source": [
    "Creating arrays"
   ]
  },
  {
   "cell_type": "code",
   "execution_count": 2,
   "metadata": {},
   "outputs": [
    {
     "name": "stdout",
     "output_type": "stream",
     "text": [
      "[0.  0.6 1.2 1.8 2.4 3.  3.6 4.2 4.8 5.4 6.  6.6 7.2 7.8 8.4 9.  9.6]\n"
     ]
    }
   ],
   "source": [
    "tmp = np.array([1, 2, 3, 4, 5], dtype=np.uint16)\n",
    "tmp1 = np.zeros([5, 3])\n",
    "tmp2 = np.ones([3,4])\n",
    "tmp3 = np.random.randn(4, 2)\n",
    "tmp4 = np.random.randint(5,10, [3,4])\n",
    "tmp5 = np.linspace(0, 10, 20) # lower bound, upper bound, no. of elements\n",
    "tmp6 = np.arange(0, 10, 0.6) # lower bound, upper bound, spacing between elements\n",
    "print(tmp6)"
   ]
  },
  {
   "cell_type": "markdown",
   "metadata": {},
   "source": [
    "Array Operations"
   ]
  },
  {
   "cell_type": "code",
   "execution_count": 3,
   "metadata": {},
   "outputs": [
    {
     "data": {
      "text/plain": [
       "array([ 2,  4,  6,  8, 10], dtype=uint16)"
      ]
     },
     "execution_count": 3,
     "metadata": {},
     "output_type": "execute_result"
    }
   ],
   "source": [
    "2* tmp"
   ]
  },
  {
   "cell_type": "markdown",
   "metadata": {},
   "source": []
  }
 ],
 "metadata": {
  "kernelspec": {
   "display_name": "torch",
   "language": "python",
   "name": "python3"
  },
  "language_info": {
   "codemirror_mode": {
    "name": "ipython",
    "version": 3
   },
   "file_extension": ".py",
   "mimetype": "text/x-python",
   "name": "python",
   "nbconvert_exporter": "python",
   "pygments_lexer": "ipython3",
   "version": "3.8.15"
  },
  "orig_nbformat": 4
 },
 "nbformat": 4,
 "nbformat_minor": 2
}
