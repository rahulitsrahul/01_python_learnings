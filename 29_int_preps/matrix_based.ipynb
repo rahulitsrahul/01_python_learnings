{
 "cells": [
  {
   "cell_type": "code",
   "execution_count": null,
   "metadata": {},
   "outputs": [],
   "source": []
  },
  {
   "cell_type": "code",
   "execution_count": 6,
   "metadata": {},
   "outputs": [
    {
     "name": "stdout",
     "output_type": "stream",
     "text": [
      "mat_a\n",
      " [[1, 2, 3], [4, 5, 6], [7, 8, 9]]\n",
      "mat_a Transpose \n",
      " [[1, 4, 7], [2, 5, 8], [3, 6, 9]]\n"
     ]
    }
   ],
   "source": [
    "# Transpose of a matrix\n",
    "from copy import deepcopy as dcp\n",
    "\n",
    "mat_a = [[1, 2, 3], [4, 5, 6], [7, 8, 9]]\n",
    "mat_b = dcp(mat_a)\n",
    "\n",
    "print('mat_a\\n', mat_a)\n",
    "rows = len(mat_a)\n",
    "cols = len(mat_a[0])\n",
    "\n",
    "for row in range(rows):\n",
    "    for col in range(cols):\n",
    "        mat_b[row][col] = mat_a[col][row]\n",
    "        \n",
    "print(\"mat_a Transpose \\n\", mat_b)\n"
   ]
  },
  {
   "cell_type": "code",
   "execution_count": null,
   "metadata": {},
   "outputs": [],
   "source": []
  },
  {
   "cell_type": "code",
   "execution_count": 19,
   "metadata": {},
   "outputs": [],
   "source": [
    "from copy import deepcopy as dcp\n",
    "\n",
    "mat_a = [[1, 2, 3, 4], [5, 6, 7, 8], [9, 10, 11, 12], [13, 14, 15, 16]]\n",
    "mat_b = []\n",
    "\n",
    "# Initialize left, right, top and bottom values\n",
    "left, right = 0, len(mat_a[0])\n",
    "top, bottom = 0, len(mat_a)\n",
    "\n",
    "while left < right and top < bottom:\n",
    "    # Move from top left to top right\n",
    "    for i in range(left, right):\n",
    "        mat_b.append(mat_a[top][i])\n",
    "    top += 1\n",
    "    \n",
    "    \n",
    "    # Move from top right to top bottom:\n",
    "    for i in range(top, bottom):\n",
    "        mat_b.append(mat_a[i][right-1])\n",
    "    right -= 1\n",
    "    \n",
    "    # Move from bottom right to bottom left:\n",
    "    for i in range(right-1, left-1, -1):\n",
    "        mat_b.append(mat_a[bottom-1][i])\n",
    "    bottom -= 1\n",
    "    \n",
    "    # Move form bottom left to top left:\n",
    "    for i in range(bottom-1, top-1, -1):\n",
    "        mat_b.append(mat_a[i][left])\n",
    "    left += 1"
   ]
  },
  {
   "cell_type": "code",
   "execution_count": 20,
   "metadata": {},
   "outputs": [
    {
     "name": "stdout",
     "output_type": "stream",
     "text": [
      "[1, 2, 3, 4, 8, 12, 16, 15, 14, 13, 9, 5, 6, 7, 11, 10]\n"
     ]
    }
   ],
   "source": [
    "print(mat_b)"
   ]
  },
  {
   "cell_type": "code",
   "execution_count": null,
   "metadata": {},
   "outputs": [],
   "source": [
    "# Matrix rotation   90* cw "
   ]
  },
  {
   "cell_type": "code",
   "execution_count": 3,
   "metadata": {},
   "outputs": [
    {
     "name": "stdout",
     "output_type": "stream",
     "text": [
      "[1, 2, 3, 4]\n",
      "[5, 6, 7, 8]\n",
      "[9, 10, 11, 12]\n",
      "[13, 14, 15, 16]\n",
      "Orignal Matrix:\n",
      " None\n",
      "[13, 9, 5, 1]\n",
      "[14, 11, 10, 2]\n",
      "[15, 7, 6, 3]\n",
      "[16, 12, 8, 4]\n",
      "Rotated Matrix: \n",
      " None\n"
     ]
    }
   ],
   "source": [
    "mat = [[1, 2, 3, 4], [5, 6, 7, 8], [9, 10, 11, 12], [13, 14, 15, 16]]\n",
    "\n",
    "\n",
    "def print_mat(mat):\n",
    "    for i in range(len(mat)):\n",
    "        print(mat[i])\n",
    "\n",
    "print(f\"Orignal Matrix:\\n {print_mat(mat)}\")\n",
    "\n",
    "l, r = 0, len(mat[0])-1\n",
    "top, bottom = 0, len(mat)-1\n",
    "\n",
    "while ((l<r) & (top < bottom)):\n",
    "    for i in range(r):\n",
    "        top_l_temp = mat[top][l+i]\n",
    "        mat[top][l+i] = mat[bottom-i][l]\n",
    "        mat[bottom-i][l] = mat[bottom][r-i]\n",
    "        mat[bottom][r-i] = mat[top+i][r]\n",
    "        mat[top+i][r] = top_l_temp\n",
    "    l += 1\n",
    "    r -= 1\n",
    "    top += 1\n",
    "    bottom -= 1\n",
    "    \n",
    "print(f\"Rotated Matrix: \\n {print_mat(mat)}\")"
   ]
  }
 ],
 "metadata": {
  "kernelspec": {
   "display_name": "torch",
   "language": "python",
   "name": "python3"
  },
  "language_info": {
   "codemirror_mode": {
    "name": "ipython",
    "version": 3
   },
   "file_extension": ".py",
   "mimetype": "text/x-python",
   "name": "python",
   "nbconvert_exporter": "python",
   "pygments_lexer": "ipython3",
   "version": "3.8.15"
  }
 },
 "nbformat": 4,
 "nbformat_minor": 2
}
